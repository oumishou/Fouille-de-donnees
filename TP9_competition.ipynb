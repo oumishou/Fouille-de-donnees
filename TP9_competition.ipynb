{
 "cells": [
  {
   "cell_type": "code",
   "outputs": [],
   "source": [
    "import pandas as pd\n",
    "from sklearn.compose import ColumnTransformer\n",
    "from sklearn.pipeline import Pipeline\n",
    "from sklearn.preprocessing import StandardScaler, OneHotEncoder\n",
    "from sklearn.linear_model import LogisticRegression\n",
    "\n",
    "# Charger les données d'entraînement et de test\n",
    "train_data = pd.read_csv('train(competion).csv')\n",
    "test_data = pd.read_csv('test(competition).csv')\n",
    "\n",
    "# Séparer les caractéristiques (features) et la cible dans les données d'entraînement\n",
    "X_train, y_train = train_data.drop(columns=['Exited']), train_data['Exited']\n",
    "\n",
    "# Identifier les colonnes catégorielles\n",
    "categorical_columns = X_train.select_dtypes(include=['object']).columns.tolist()\n",
    "\n",
    "# Créer des transformateurs pour l'encodage des variables catégorielles et la mise à l'échelle des caractéristiques numériques\n",
    "categorical_transformer = OneHotEncoder(handle_unknown='ignore')\n",
    "numerical_transformer = StandardScaler()\n",
    "\n",
    "# Combiner les transformateurs\n",
    "preprocessor = ColumnTransformer(\n",
    "    transformers=[\n",
    "        ('cat', categorical_transformer, categorical_columns),\n",
    "        ('num', numerical_transformer, X_train.select_dtypes(include=['number']).columns.tolist())\n",
    "    ])\n",
    "\n",
    "# Initialiser le modèle de régression logistique avec une augmentation du nombre d'itérations\n",
    "model = LogisticRegression(max_iter=1000)\n",
    "\n",
    "# Créer un pipeline incluant le prétraitement et le modèle\n",
    "pipeline = Pipeline(steps=[('preprocessor', preprocessor),\n",
    "                           ('classifier', model)])\n",
    "\n",
    "# Entraîner le modèle\n",
    "pipeline.fit(X_train, y_train)\n",
    "\n",
    "# Prétraitement des données de test (si nécessaire)\n",
    "X_test = test_data\n",
    "\n",
    "# Prédire la probabilité d'abandon ('Exited') pour les données de test\n",
    "test_probabilities = pipeline.predict_proba(X_test)[:, 1]\n",
    "\n",
    "# Créer un DataFrame pour les probabilités prédites\n",
    "submission_df = pd.DataFrame({'id': test_data['id'], 'Exited': test_probabilities})\n",
    "\n",
    "# Enregistrer les prédictions au format CSV sous le nom de prediction.csv\n",
    "submission_df.to_csv('prediction.csv', index=False)\n"
   ],
   "metadata": {
    "collapsed": false,
    "ExecuteTime": {
     "end_time": "2024-05-02T19:19:56.701997Z",
     "start_time": "2024-05-02T19:19:54.170570Z"
    }
   },
   "id": "13f2df72c7d122cc",
   "execution_count": 13
  },
  {
   "cell_type": "code",
   "outputs": [],
   "source": [],
   "metadata": {
    "collapsed": false
   },
   "id": "7484cfcacc48f700"
  }
 ],
 "metadata": {
  "kernelspec": {
   "display_name": "Python 3",
   "language": "python",
   "name": "python3"
  },
  "language_info": {
   "codemirror_mode": {
    "name": "ipython",
    "version": 2
   },
   "file_extension": ".py",
   "mimetype": "text/x-python",
   "name": "python",
   "nbconvert_exporter": "python",
   "pygments_lexer": "ipython2",
   "version": "2.7.6"
  }
 },
 "nbformat": 4,
 "nbformat_minor": 5
}
